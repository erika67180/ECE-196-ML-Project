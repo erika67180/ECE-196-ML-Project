{
 "cells": [
  {
   "cell_type": "code",
   "execution_count": null,
   "metadata": {},
   "outputs": [],
   "source": [
    "import pandas as pd\n",
    "import numpy as np\n",
    "import matplotlib.pyplot as plt\n",
    "import matplotlib.patches as mpatches\n",
    "\n",
    "from datetime import datetime\n",
    "from sklearn.linear_model import LinearRegression\n",
    "from fastai.tabular.all import add_datepart\n",
    "from sklearn.preprocessing import MinMaxScaler\n",
    "from keras.models import Sequential\n",
    "from keras.layers import Dense, Dropout, LSTM"
   ]
  },
  {
   "cell_type": "markdown",
   "metadata": {},
   "source": [
    "### Load dataset and convert to daily closing price data"
   ]
  },
  {
   "cell_type": "code",
   "execution_count": null,
   "metadata": {},
   "outputs": [],
   "source": [
    "df = pd.read_csv(\"dataset/btcusd.csv\")[2000000:]\n",
    "\n",
    "# Change this variable to False to train on daily resolution\n",
    "minute_resolution = False\n",
    "\n",
    "def get_date(long):\n",
    "    return datetime.fromtimestamp(long / 1000).strftime('%Y-%m-%d')\n",
    "def get_time(long):\n",
    "    return datetime.fromtimestamp(long / 1000).strftime('%H:%M:%S')\n",
    "def get_hour(long):\n",
    "    return int(datetime.fromtimestamp(long / 1000).strftime('%H'))\n",
    "\n",
    "df['date_string'] = df['time'].apply(get_date)\n",
    "if minute_resolution:\n",
    "    df = df.rename(columns={'date_string': 'date'})\n",
    "    df = df.drop(columns=['time', 'open', 'high', 'low', 'volume'])\n",
    "    data_df = df\n",
    "else:\n",
    "    df['time_string'] = df['time'].apply(get_time)\n",
    "    df['hour'] = df['time'].apply(get_hour)\n",
    "\n",
    "    df = df.drop(columns=['time', 'open', 'high', 'low', 'volume'])\n",
    "\n",
    "    grouped = df.groupby('date_string')\n",
    "    dates = list(grouped.groups.keys())\n",
    "\n",
    "    close_data = []\n",
    "    date_data = []\n",
    "    for date in dates:\n",
    "        date_df = grouped.get_group(date)\n",
    "        close_data.append(date_df.iloc[-1]['close'])\n",
    "        date_data.append(date)\n",
    "\n",
    "    data_df = pd.DataFrame()\n",
    "    data_df['date'] = date_data\n",
    "    data_df['close'] = close_data\n",
    "data_df"
   ]
  },
  {
   "cell_type": "markdown",
   "metadata": {},
   "source": [
    "# Linear Regression"
   ]
  },
  {
   "cell_type": "markdown",
   "metadata": {},
   "source": [
    "### Create Train/Test Set"
   ]
  },
  {
   "cell_type": "code",
   "execution_count": null,
   "metadata": {},
   "outputs": [],
   "source": [
    "train_percent = 0.8\n",
    "\n",
    "new_df = data_df.copy()\n",
    "add_datepart(new_df, 'date')\n",
    "new_df.drop('Elapsed', axis=1, inplace=True)\n",
    "new_df"
   ]
  },
  {
   "cell_type": "code",
   "execution_count": null,
   "metadata": {},
   "outputs": [],
   "source": [
    "train_size = len(new_df) * train_percent\n",
    "train_size"
   ]
  },
  {
   "cell_type": "code",
   "execution_count": null,
   "metadata": {},
   "outputs": [],
   "source": [
    "train = new_df[:int(train_size)]\n",
    "valid = new_df[int(train_size):]\n",
    "\n",
    "x_train = train.drop('close', axis=1)\n",
    "y_train = train['close']\n",
    "x_valid = valid.drop('close', axis=1)\n",
    "y_valid = valid['close']"
   ]
  },
  {
   "cell_type": "markdown",
   "metadata": {},
   "source": [
    "### Model"
   ]
  },
  {
   "cell_type": "code",
   "execution_count": null,
   "metadata": {},
   "outputs": [],
   "source": [
    "model = LinearRegression()\n",
    "model.fit(x_train,y_train);"
   ]
  },
  {
   "cell_type": "markdown",
   "metadata": {},
   "source": [
    "### Results"
   ]
  },
  {
   "cell_type": "code",
   "execution_count": null,
   "metadata": {},
   "outputs": [],
   "source": [
    "preds = model.predict(x_valid)\n",
    "rms=np.sqrt(np.mean(np.power((np.array(y_valid)-np.array(preds)),2)))\n",
    "print('RMS: ' + str(rms))\n",
    "\n",
    "pd.set_option('mode.chained_assignment', None)\n",
    "valid['Predictions'] = preds\n",
    "\n",
    "valid.index = new_df[int(train_size):].index\n",
    "train.index = new_df[:int(train_size)].index"
   ]
  },
  {
   "cell_type": "code",
   "execution_count": null,
   "metadata": {},
   "outputs": [],
   "source": [
    "plt.figure(figsize=(20,10))\n",
    "plt.rcParams.update({'font.size': 22})\n",
    "\n",
    "plt.title('Bitcoin Closing Price')\n",
    "plt.xlabel('Dates')\n",
    "plt.ylabel('Closing Price')\n",
    "plt.plot(train['close'])\n",
    "plt.plot(valid[['close', 'Predictions']])\n",
    "\n",
    "blue_patch = mpatches.Patch(color='#1f77b4', label='Train/Validation Data')\n",
    "orange_patch = mpatches.Patch(color='#ff7f0e', label='Test Data')\n",
    "green_patch = mpatches.Patch(color='#2ca02c', label='Prediction')\n",
    "\n",
    "plt.legend(handles=[blue_patch, orange_patch, green_patch])\n",
    "\n",
    "plt.show()"
   ]
  },
  {
   "cell_type": "markdown",
   "metadata": {},
   "source": [
    "# LSTM"
   ]
  },
  {
   "cell_type": "markdown",
   "metadata": {},
   "source": [
    "### Choose Hyperparameters"
   ]
  },
  {
   "cell_type": "code",
   "execution_count": null,
   "metadata": {},
   "outputs": [],
   "source": [
    "train_percent = 0.8\n",
    "num_epochs = 10\n",
    "batch_size = 1\n",
    "loss_type = 'mean_squared_error'\n",
    "\n",
    "num_timesteps = 10\n",
    "num_units = 50\n",
    "optimizer_type = 'adam'"
   ]
  },
  {
   "cell_type": "markdown",
   "metadata": {},
   "source": [
    "### Create Train/Validation/Test Set"
   ]
  },
  {
   "cell_type": "code",
   "execution_count": null,
   "metadata": {},
   "outputs": [],
   "source": [
    "new_data = data_df.copy()\n",
    "new_data"
   ]
  },
  {
   "cell_type": "code",
   "execution_count": null,
   "metadata": {},
   "outputs": [],
   "source": [
    "train_size = len(new_df) * 0.6\n",
    "valid_size = len(new_df) * 0.2\n",
    "test_size = len(new_df) * 0.2"
   ]
  },
  {
   "cell_type": "code",
   "execution_count": null,
   "metadata": {},
   "outputs": [],
   "source": [
    "new_data.index = new_data.date\n",
    "new_data.drop('date', axis=1, inplace=True)\n",
    "\n",
    "dataset = new_data.values\n",
    "\n",
    "train = dataset[:int(train_size),:]\n",
    "print(len(train))\n",
    "valid = dataset[int(train_size):int(train_size)+int(valid_size),:] \n",
    "print(len(valid))\n",
    "test = dataset[-int(test_size):, :]\n",
    "print(len(test))"
   ]
  },
  {
   "cell_type": "code",
   "execution_count": null,
   "metadata": {},
   "outputs": [],
   "source": [
    "scaler = MinMaxScaler(feature_range=(0, 1))\n",
    "scaled_data = scaler.fit_transform(dataset)\n",
    "\n",
    "x_train, y_train = [], []\n",
    "for i in range(num_timesteps,len(train)):\n",
    "    x_train.append(scaled_data[i - num_timesteps:i,0])\n",
    "    y_train.append(scaled_data[i, 0])\n",
    "    \n",
    "x_train, y_train = np.array(x_train), np.array(y_train)\n",
    "\n",
    "x_train = np.reshape(x_train, (x_train.shape[0], x_train.shape[1], 1))"
   ]
  },
  {
   "cell_type": "markdown",
   "metadata": {},
   "source": [
    "### Model"
   ]
  },
  {
   "cell_type": "code",
   "execution_count": null,
   "metadata": {
    "scrolled": true
   },
   "outputs": [],
   "source": [
    "model = Sequential()\n",
    "model.add(LSTM(units=num_units, return_sequences=True, input_shape=(x_train.shape[1],1)))\n",
    "model.add(LSTM(units=num_units))\n",
    "model.add(Dense(1))\n",
    "\n",
    "model.compile(loss=loss_type, optimizer=optimizer_type)\n",
    "model.fit(x_train, y_train, epochs=num_epochs, batch_size=batch_size, verbose=2)"
   ]
  },
  {
   "cell_type": "markdown",
   "metadata": {},
   "source": [
    "### Results"
   ]
  },
  {
   "cell_type": "code",
   "execution_count": null,
   "metadata": {},
   "outputs": [],
   "source": [
    "def evaluate(inputs, labels):\n",
    "    X_test = []\n",
    "    for i in range(num_timesteps, inputs.shape[0]):\n",
    "        X_test.append(inputs[i-num_timesteps:i,0])\n",
    "    X_test = np.array(X_test)\n",
    "\n",
    "    X_test = np.reshape(X_test, (X_test.shape[0],X_test.shape[1],1))\n",
    "    closing_price = model.predict(X_test)\n",
    "    closing_price = scaler.inverse_transform(closing_price.reshape(-1,1))\n",
    "\n",
    "    rms=np.sqrt(np.mean(np.power((labels[num_timesteps:]-closing_price),2)))\n",
    "    return rms, closing_price"
   ]
  },
  {
   "cell_type": "code",
   "execution_count": null,
   "metadata": {},
   "outputs": [],
   "source": [
    "inputs = new_data[:int(train_size)].values\n",
    "inputs = inputs.reshape(-1,1)\n",
    "inputs  = scaler.transform(inputs)\n",
    "\n",
    "rms, closing_price = evaluate(inputs, train)\n",
    "'Train RMS: ' + str(rms)"
   ]
  },
  {
   "cell_type": "code",
   "execution_count": null,
   "metadata": {},
   "outputs": [],
   "source": [
    "inputs = new_data[int(train_size):int(train_size) + int(valid_size)].values\n",
    "inputs = inputs.reshape(-1,1)\n",
    "inputs  = scaler.transform(inputs)\n",
    "\n",
    "rms, closing_price = evaluate(inputs, valid)\n",
    "print('Valid RMS: ' + str(rms))"
   ]
  },
  {
   "cell_type": "code",
   "execution_count": null,
   "metadata": {},
   "outputs": [],
   "source": [
    "inputs = new_data[-int(test_size):].values\n",
    "inputs = inputs.reshape(-1,1)\n",
    "inputs  = scaler.transform(inputs)\n",
    "\n",
    "rms, closing_price = evaluate(inputs, test)\n",
    "print('Test RMS: ' + str(rms))"
   ]
  },
  {
   "cell_type": "code",
   "execution_count": null,
   "metadata": {},
   "outputs": [],
   "source": [
    "train = new_data[:int(train_size)+int(valid_size)+num_timesteps]\n",
    "test = new_data[-int(test_size)+num_timesteps:]\n",
    "test['Predictions'] = closing_price"
   ]
  },
  {
   "cell_type": "code",
   "execution_count": null,
   "metadata": {},
   "outputs": [],
   "source": [
    "plt.figure(figsize=(20, 10))\n",
    "plt.rcParams.update({'font.size': 22})\n",
    "\n",
    "plt.title('Bitcoin Closing Price')\n",
    "plt.xlabel('Dates')\n",
    "plt.ylabel('Closing Price')\n",
    "plt.plot(train['close'])\n",
    "plt.plot(test[['close','Predictions']])\n",
    "\n",
    "blue_patch = mpatches.Patch(color='#1f77b4', label='Train/Validation Data')\n",
    "orange_patch = mpatches.Patch(color='#ff7f0e', label='Test Data')\n",
    "green_patch = mpatches.Patch(color='#2ca02c', label='Prediction')\n",
    "\n",
    "plt.legend(handles=[blue_patch, orange_patch, green_patch])\n",
    "\n",
    "plt.xticks(range(len(new_data.index))[::40], new_data.index.values[::40], rotation=90)\n",
    "\n",
    "plt.show()"
   ]
  },
  {
   "cell_type": "code",
   "execution_count": null,
   "metadata": {},
   "outputs": [],
   "source": []
  }
 ],
 "metadata": {
  "kernelspec": {
   "display_name": "Python 3",
   "language": "python",
   "name": "python3"
  },
  "language_info": {
   "codemirror_mode": {
    "name": "ipython",
    "version": 3
   },
   "file_extension": ".py",
   "mimetype": "text/x-python",
   "name": "python",
   "nbconvert_exporter": "python",
   "pygments_lexer": "ipython3",
   "version": "3.7.6"
  }
 },
 "nbformat": 4,
 "nbformat_minor": 2
}
